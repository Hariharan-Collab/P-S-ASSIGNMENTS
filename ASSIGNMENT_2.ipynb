{
  "nbformat": 4,
  "nbformat_minor": 0,
  "metadata": {
    "colab": {
      "provenance": [],
      "include_colab_link": true
    },
    "kernelspec": {
      "name": "python3",
      "display_name": "Python 3"
    },
    "language_info": {
      "name": "python"
    }
  },
  "cells": [
    {
      "cell_type": "markdown",
      "metadata": {
        "id": "view-in-github",
        "colab_type": "text"
      },
      "source": [
        "<a href=\"https://colab.research.google.com/github/Hariharan-Collab/P-S-ASSIGNMENTS/blob/main/ASSIGNMENT_2.ipynb\" target=\"_parent\"><img src=\"https://colab.research.google.com/assets/colab-badge.svg\" alt=\"Open In Colab\"/></a>"
      ]
    },
    {
      "cell_type": "markdown",
      "source": [
        "1. The table below represent the age of 54 participant in a youth summer camp\n",
        "age in years 10 12 15 11 13 21\n",
        "frequency 1 4 7 9 4 3\n",
        "find mean of the age of participants"
      ],
      "metadata": {
        "id": "OC_c4DvYUoBO"
      }
    },
    {
      "cell_type": "code",
      "execution_count": 1,
      "metadata": {
        "colab": {
          "base_uri": "https://localhost:8080/"
        },
        "id": "s-OYkLC4TuWY",
        "outputId": "39781e0d-fea7-4ab7-918f-88367a6cdc9c"
      },
      "outputs": [
        {
          "output_type": "stream",
          "name": "stdout",
          "text": [
            "The mean age of participants is: 13.46\n"
          ]
        }
      ],
      "source": [
        "# Data\n",
        "ages = [10, 12, 15, 11, 13, 21]\n",
        "frequencies = [1, 4, 7, 9, 4, 3]\n",
        "\n",
        "# Calculate the total sum of x * f and total frequency\n",
        "total_xf = sum(age * freq for age, freq in zip(ages, frequencies))\n",
        "total_f = sum(frequencies)\n",
        "\n",
        "# Calculate the mean\n",
        "mean_age = total_xf / total_f\n",
        "\n",
        "# Output the result\n",
        "print(\"The mean age of participants is:\", round(mean_age, 2))\n"
      ]
    },
    {
      "cell_type": "markdown",
      "source": [
        "2. CALCULATE THE MEAN OF A CONTINOUS FREQUENCY DISTRUBTION\n",
        "CLASS INTERVAL [0,10) [10,20) [20,30) [30,40) [40,50) [50,60)\n",
        "FREQUENCIES 1 8 7 8 7 6"
      ],
      "metadata": {
        "id": "Z7tg2myvXniC"
      }
    },
    {
      "cell_type": "code",
      "source": [
        "# Data\n",
        "class_intervals = [\"[0,10)\", \"[10,20)\", \"[20,30)\", \"[30,40)\", \"[40,50)\", \"[50,60)\"]\n",
        "frequencies = [1, 8, 7, 8, 7, 6]\n",
        "\n",
        "# Calculate midpoints for each class interval\n",
        "midpoints = [(0 + 10) / 2, (10 + 20) / 2, (20 + 30) / 2, (30 + 40) / 2, (40 + 50) / 2, (50 + 60) / 2]\n",
        "\n",
        "# Calculate the total sum of f * x and total frequency\n",
        "total_fx = sum(f * x for f, x in zip(frequencies, midpoints))\n",
        "total_f = sum(frequencies)\n",
        "\n",
        "# Calculate the mean\n",
        "mean = total_fx / total_f\n",
        "\n",
        "# Output the result\n",
        "print(\"The mean of the continuous frequency distribution is:\", round(mean, 2))\n"
      ],
      "metadata": {
        "colab": {
          "base_uri": "https://localhost:8080/"
        },
        "id": "dqGv7wv7Xn2q",
        "outputId": "40489711-451b-4b1a-c76d-585645b54e51"
      },
      "execution_count": 3,
      "outputs": [
        {
          "output_type": "stream",
          "name": "stdout",
          "text": [
            "The mean of the continuous frequency distribution is: 33.11\n"
          ]
        }
      ]
    },
    {
      "cell_type": "markdown",
      "source": [
        "3. CALCULATE VARIANCE OF DATASET 13,22,25,25,14,23,31,16"
      ],
      "metadata": {
        "id": "lsg4QUiEaGl7"
      }
    },
    {
      "cell_type": "code",
      "source": [
        "# Dataset\n",
        "data = [13, 22, 25, 25, 14, 23, 31, 16]\n",
        "\n",
        "# Step 1: Calculate the mean\n",
        "mean = sum(data) / len(data)\n",
        "\n",
        "# Step 2: Calculate squared differences\n",
        "squared_differences = [(x - mean) ** 2 for x in data]\n",
        "\n",
        "# Step 3: Calculate the variance\n",
        "variance = sum(squared_differences) / len(data)\n",
        "\n",
        "# Output the result\n",
        "print(\"The variance of the dataset is:\", round(variance, 4))\n"
      ],
      "metadata": {
        "colab": {
          "base_uri": "https://localhost:8080/"
        },
        "id": "CgOrcKv8aG8G",
        "outputId": "3c54f237-cdd0-45a4-a828-52072737503f"
      },
      "execution_count": 2,
      "outputs": [
        {
          "output_type": "stream",
          "name": "stdout",
          "text": [
            "The variance of the dataset is: 34.3594\n"
          ]
        }
      ]
    }
  ]
}